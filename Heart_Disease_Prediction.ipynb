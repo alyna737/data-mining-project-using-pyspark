{
  "cells": [
    {
      "cell_type": "markdown",
      "metadata": {
        "id": "UXrqkMmfTgIi"
      },
      "source": [
        "\n",
        "\n",
        "---\n",
        "\n",
        "\n",
        "\n",
        "---\n",
        "\n",
        "\n",
        "# **Semester Project**\n",
        "Submitted By: Alina Nawaz\n",
        "\n",
        "Registration : B22F0087AI091\n",
        "\n",
        "---\n",
        "\n",
        "\n",
        "---\n",
        "\n",
        "\n",
        "\n"
      ]
    },
    {
      "cell_type": "markdown",
      "source": [
        "## **Setting Up PySpark**"
      ],
      "metadata": {
        "id": "mSfhhjH2u0ZK"
      }
    },
    {
      "cell_type": "code",
      "execution_count": null,
      "metadata": {
        "colab": {
          "base_uri": "https://localhost:8080/"
        },
        "id": "ne9bhUUfL3gS",
        "outputId": "bbc66f26-56a9-4176-c36b-b22bec81429b"
      },
      "outputs": [
        {
          "name": "stdout",
          "output_type": "stream",
          "text": [
            "Requirement already satisfied: pyspark in /usr/local/lib/python3.10/dist-packages (3.5.3)\n",
            "Requirement already satisfied: py4j==0.10.9.7 in /usr/local/lib/python3.10/dist-packages (from pyspark) (0.10.9.7)\n"
          ]
        }
      ],
      "source": [
        "# Install PySpark\n",
        "!pip install pyspark\n"
      ]
    },
    {
      "cell_type": "code",
      "execution_count": null,
      "metadata": {
        "colab": {
          "base_uri": "https://localhost:8080/"
        },
        "id": "dn0Mzt_RNmZ2",
        "outputId": "df1eff0c-9563-40d0-fcb4-16e6a1076a12"
      },
      "outputs": [
        {
          "name": "stdout",
          "output_type": "stream",
          "text": [
            "Spark version: 3.5.3\n"
          ]
        }
      ],
      "source": [
        "# Import PySpark\n",
        "from pyspark.sql import SparkSession\n",
        "\n",
        "# Create a Spark session\n",
        "spark = SparkSession.builder.appName(\"Colab PySpark Setup\").getOrCreate()\n",
        "\n",
        "# Print Spark version\n",
        "print(f\"Spark version: {spark.version}\")\n"
      ]
    },
    {
      "cell_type": "code",
      "execution_count": null,
      "metadata": {
        "id": "DBboOqzKOJHB"
      },
      "outputs": [],
      "source": [
        "import os\n",
        "os.environ[\"JAVA_HOME\"] = \"/usr/lib/jvm/java-8-openjdk-amd64\"\n",
        "os.environ[\"SPARK_HOME\"] = \"/content/spark-3.4.0-bin-hadoop3\"\n"
      ]
    },
    {
      "cell_type": "markdown",
      "metadata": {
        "id": "QMw75rzSaotj"
      },
      "source": [
        "\n",
        "\n",
        "---\n",
        "\n",
        "\n",
        "# **Importing Libraries**\n",
        "---\n",
        "\n"
      ]
    },
    {
      "cell_type": "code",
      "execution_count": null,
      "metadata": {
        "colab": {
          "base_uri": "https://localhost:8080/"
        },
        "id": "OkOrKXXOTexz",
        "outputId": "1b0a774d-88ec-4955-f356-829bb26e285e"
      },
      "outputs": [
        {
          "name": "stdout",
          "output_type": "stream",
          "text": [
            "Requirement already satisfied: pyspark in /usr/local/lib/python3.10/dist-packages (3.5.3)\n",
            "Requirement already satisfied: pandas in /usr/local/lib/python3.10/dist-packages (2.2.2)\n",
            "Requirement already satisfied: matplotlib in /usr/local/lib/python3.10/dist-packages (3.8.0)\n",
            "Requirement already satisfied: seaborn in /usr/local/lib/python3.10/dist-packages (0.13.2)\n",
            "Requirement already satisfied: scikit-learn in /usr/local/lib/python3.10/dist-packages (1.6.0)\n",
            "Requirement already satisfied: py4j==0.10.9.7 in /usr/local/lib/python3.10/dist-packages (from pyspark) (0.10.9.7)\n",
            "Requirement already satisfied: numpy>=1.22.4 in /usr/local/lib/python3.10/dist-packages (from pandas) (1.26.4)\n",
            "Requirement already satisfied: python-dateutil>=2.8.2 in /usr/local/lib/python3.10/dist-packages (from pandas) (2.8.2)\n",
            "Requirement already satisfied: pytz>=2020.1 in /usr/local/lib/python3.10/dist-packages (from pandas) (2024.2)\n",
            "Requirement already satisfied: tzdata>=2022.7 in /usr/local/lib/python3.10/dist-packages (from pandas) (2024.2)\n",
            "Requirement already satisfied: contourpy>=1.0.1 in /usr/local/lib/python3.10/dist-packages (from matplotlib) (1.3.1)\n",
            "Requirement already satisfied: cycler>=0.10 in /usr/local/lib/python3.10/dist-packages (from matplotlib) (0.12.1)\n",
            "Requirement already satisfied: fonttools>=4.22.0 in /usr/local/lib/python3.10/dist-packages (from matplotlib) (4.55.3)\n",
            "Requirement already satisfied: kiwisolver>=1.0.1 in /usr/local/lib/python3.10/dist-packages (from matplotlib) (1.4.7)\n",
            "Requirement already satisfied: packaging>=20.0 in /usr/local/lib/python3.10/dist-packages (from matplotlib) (24.2)\n",
            "Requirement already satisfied: pillow>=6.2.0 in /usr/local/lib/python3.10/dist-packages (from matplotlib) (11.0.0)\n",
            "Requirement already satisfied: pyparsing>=2.3.1 in /usr/local/lib/python3.10/dist-packages (from matplotlib) (3.2.0)\n",
            "Requirement already satisfied: scipy>=1.6.0 in /usr/local/lib/python3.10/dist-packages (from scikit-learn) (1.13.1)\n",
            "Requirement already satisfied: joblib>=1.2.0 in /usr/local/lib/python3.10/dist-packages (from scikit-learn) (1.4.2)\n",
            "Requirement already satisfied: threadpoolctl>=3.1.0 in /usr/local/lib/python3.10/dist-packages (from scikit-learn) (3.5.0)\n",
            "Requirement already satisfied: six>=1.5 in /usr/local/lib/python3.10/dist-packages (from python-dateutil>=2.8.2->pandas) (1.17.0)\n"
          ]
        }
      ],
      "source": [
        "!pip install pyspark pandas matplotlib seaborn scikit-learn\n"
      ]
    },
    {
      "cell_type": "code",
      "execution_count": null,
      "metadata": {
        "id": "BSW3-wSlab0n"
      },
      "outputs": [],
      "source": [
        "from pyspark.sql import SparkSession\n",
        "from pyspark.ml.feature import VectorAssembler, StringIndexer\n",
        "from pyspark.ml.classification import DecisionTreeClassifier, NaiveBayes\n",
        "from pyspark.ml.clustering import KMeans\n",
        "from pyspark.ml.evaluation import MulticlassClassificationEvaluator\n",
        "from pyspark.sql.functions import col\n",
        "import pandas as pd\n",
        "import matplotlib.pyplot as plt\n",
        "import seaborn as sns\n",
        "from sklearn.metrics import confusion_matrix, ConfusionMatrixDisplay, roc_curve, auc\n"
      ]
    },
    {
      "cell_type": "markdown",
      "metadata": {
        "id": "MXOVpLNzTuX5"
      },
      "source": [
        "\n",
        "\n",
        "---\n",
        "\n",
        "\n",
        "# **Data Preparation**\n",
        "\n",
        "\n",
        "---\n",
        "\n",
        "\n"
      ]
    },
    {
      "cell_type": "code",
      "execution_count": null,
      "metadata": {
        "colab": {
          "base_uri": "https://localhost:8080/",
          "height": 73
        },
        "id": "VBVjeabNfCwt",
        "outputId": "aaf8daa5-2b73-4b9e-ca91-d88f5266226a"
      },
      "outputs": [
        {
          "data": {
            "text/html": [
              "\n",
              "     <input type=\"file\" id=\"files-6e8e2b1b-fa15-4f77-970a-74fdf02b65cf\" name=\"files[]\" multiple disabled\n",
              "        style=\"border:none\" />\n",
              "     <output id=\"result-6e8e2b1b-fa15-4f77-970a-74fdf02b65cf\">\n",
              "      Upload widget is only available when the cell has been executed in the\n",
              "      current browser session. Please rerun this cell to enable.\n",
              "      </output>\n",
              "      <script>// Copyright 2017 Google LLC\n",
              "//\n",
              "// Licensed under the Apache License, Version 2.0 (the \"License\");\n",
              "// you may not use this file except in compliance with the License.\n",
              "// You may obtain a copy of the License at\n",
              "//\n",
              "//      http://www.apache.org/licenses/LICENSE-2.0\n",
              "//\n",
              "// Unless required by applicable law or agreed to in writing, software\n",
              "// distributed under the License is distributed on an \"AS IS\" BASIS,\n",
              "// WITHOUT WARRANTIES OR CONDITIONS OF ANY KIND, either express or implied.\n",
              "// See the License for the specific language governing permissions and\n",
              "// limitations under the License.\n",
              "\n",
              "/**\n",
              " * @fileoverview Helpers for google.colab Python module.\n",
              " */\n",
              "(function(scope) {\n",
              "function span(text, styleAttributes = {}) {\n",
              "  const element = document.createElement('span');\n",
              "  element.textContent = text;\n",
              "  for (const key of Object.keys(styleAttributes)) {\n",
              "    element.style[key] = styleAttributes[key];\n",
              "  }\n",
              "  return element;\n",
              "}\n",
              "\n",
              "// Max number of bytes which will be uploaded at a time.\n",
              "const MAX_PAYLOAD_SIZE = 100 * 1024;\n",
              "\n",
              "function _uploadFiles(inputId, outputId) {\n",
              "  const steps = uploadFilesStep(inputId, outputId);\n",
              "  const outputElement = document.getElementById(outputId);\n",
              "  // Cache steps on the outputElement to make it available for the next call\n",
              "  // to uploadFilesContinue from Python.\n",
              "  outputElement.steps = steps;\n",
              "\n",
              "  return _uploadFilesContinue(outputId);\n",
              "}\n",
              "\n",
              "// This is roughly an async generator (not supported in the browser yet),\n",
              "// where there are multiple asynchronous steps and the Python side is going\n",
              "// to poll for completion of each step.\n",
              "// This uses a Promise to block the python side on completion of each step,\n",
              "// then passes the result of the previous step as the input to the next step.\n",
              "function _uploadFilesContinue(outputId) {\n",
              "  const outputElement = document.getElementById(outputId);\n",
              "  const steps = outputElement.steps;\n",
              "\n",
              "  const next = steps.next(outputElement.lastPromiseValue);\n",
              "  return Promise.resolve(next.value.promise).then((value) => {\n",
              "    // Cache the last promise value to make it available to the next\n",
              "    // step of the generator.\n",
              "    outputElement.lastPromiseValue = value;\n",
              "    return next.value.response;\n",
              "  });\n",
              "}\n",
              "\n",
              "/**\n",
              " * Generator function which is called between each async step of the upload\n",
              " * process.\n",
              " * @param {string} inputId Element ID of the input file picker element.\n",
              " * @param {string} outputId Element ID of the output display.\n",
              " * @return {!Iterable<!Object>} Iterable of next steps.\n",
              " */\n",
              "function* uploadFilesStep(inputId, outputId) {\n",
              "  const inputElement = document.getElementById(inputId);\n",
              "  inputElement.disabled = false;\n",
              "\n",
              "  const outputElement = document.getElementById(outputId);\n",
              "  outputElement.innerHTML = '';\n",
              "\n",
              "  const pickedPromise = new Promise((resolve) => {\n",
              "    inputElement.addEventListener('change', (e) => {\n",
              "      resolve(e.target.files);\n",
              "    });\n",
              "  });\n",
              "\n",
              "  const cancel = document.createElement('button');\n",
              "  inputElement.parentElement.appendChild(cancel);\n",
              "  cancel.textContent = 'Cancel upload';\n",
              "  const cancelPromise = new Promise((resolve) => {\n",
              "    cancel.onclick = () => {\n",
              "      resolve(null);\n",
              "    };\n",
              "  });\n",
              "\n",
              "  // Wait for the user to pick the files.\n",
              "  const files = yield {\n",
              "    promise: Promise.race([pickedPromise, cancelPromise]),\n",
              "    response: {\n",
              "      action: 'starting',\n",
              "    }\n",
              "  };\n",
              "\n",
              "  cancel.remove();\n",
              "\n",
              "  // Disable the input element since further picks are not allowed.\n",
              "  inputElement.disabled = true;\n",
              "\n",
              "  if (!files) {\n",
              "    return {\n",
              "      response: {\n",
              "        action: 'complete',\n",
              "      }\n",
              "    };\n",
              "  }\n",
              "\n",
              "  for (const file of files) {\n",
              "    const li = document.createElement('li');\n",
              "    li.append(span(file.name, {fontWeight: 'bold'}));\n",
              "    li.append(span(\n",
              "        `(${file.type || 'n/a'}) - ${file.size} bytes, ` +\n",
              "        `last modified: ${\n",
              "            file.lastModifiedDate ? file.lastModifiedDate.toLocaleDateString() :\n",
              "                                    'n/a'} - `));\n",
              "    const percent = span('0% done');\n",
              "    li.appendChild(percent);\n",
              "\n",
              "    outputElement.appendChild(li);\n",
              "\n",
              "    const fileDataPromise = new Promise((resolve) => {\n",
              "      const reader = new FileReader();\n",
              "      reader.onload = (e) => {\n",
              "        resolve(e.target.result);\n",
              "      };\n",
              "      reader.readAsArrayBuffer(file);\n",
              "    });\n",
              "    // Wait for the data to be ready.\n",
              "    let fileData = yield {\n",
              "      promise: fileDataPromise,\n",
              "      response: {\n",
              "        action: 'continue',\n",
              "      }\n",
              "    };\n",
              "\n",
              "    // Use a chunked sending to avoid message size limits. See b/62115660.\n",
              "    let position = 0;\n",
              "    do {\n",
              "      const length = Math.min(fileData.byteLength - position, MAX_PAYLOAD_SIZE);\n",
              "      const chunk = new Uint8Array(fileData, position, length);\n",
              "      position += length;\n",
              "\n",
              "      const base64 = btoa(String.fromCharCode.apply(null, chunk));\n",
              "      yield {\n",
              "        response: {\n",
              "          action: 'append',\n",
              "          file: file.name,\n",
              "          data: base64,\n",
              "        },\n",
              "      };\n",
              "\n",
              "      let percentDone = fileData.byteLength === 0 ?\n",
              "          100 :\n",
              "          Math.round((position / fileData.byteLength) * 100);\n",
              "      percent.textContent = `${percentDone}% done`;\n",
              "\n",
              "    } while (position < fileData.byteLength);\n",
              "  }\n",
              "\n",
              "  // All done.\n",
              "  yield {\n",
              "    response: {\n",
              "      action: 'complete',\n",
              "    }\n",
              "  };\n",
              "}\n",
              "\n",
              "scope.google = scope.google || {};\n",
              "scope.google.colab = scope.google.colab || {};\n",
              "scope.google.colab._files = {\n",
              "  _uploadFiles,\n",
              "  _uploadFilesContinue,\n",
              "};\n",
              "})(self);\n",
              "</script> "
            ],
            "text/plain": [
              "<IPython.core.display.HTML object>"
            ]
          },
          "metadata": {},
          "output_type": "display_data"
        },
        {
          "name": "stdout",
          "output_type": "stream",
          "text": [
            "Saving heart731.csv to heart731.csv\n"
          ]
        }
      ],
      "source": [
        "from google.colab import files\n",
        "uploaded = files.upload()\n"
      ]
    },
    {
      "cell_type": "code",
      "execution_count": null,
      "metadata": {
        "colab": {
          "base_uri": "https://localhost:8080/"
        },
        "id": "bK_gVOWsfCzb",
        "outputId": "99f0816c-77f3-48ab-d15f-c8b660c22ecc"
      },
      "outputs": [
        {
          "name": "stdout",
          "output_type": "stream",
          "text": [
            "heart731.csv  sample_data\n"
          ]
        }
      ],
      "source": [
        "!ls\n"
      ]
    },
    {
      "cell_type": "code",
      "execution_count": null,
      "metadata": {
        "id": "1P_sf0O3fk9B"
      },
      "outputs": [],
      "source": [
        "df = spark.read.csv(\"heart731.csv\", header=True, inferSchema=True)\n"
      ]
    },
    {
      "cell_type": "code",
      "execution_count": null,
      "metadata": {
        "id": "jM-b7J6lfk_W"
      },
      "outputs": [],
      "source": [
        "df = spark.read.csv(\"/content/heart731.csv\", header=True, inferSchema=True)\n"
      ]
    },
    {
      "cell_type": "code",
      "execution_count": null,
      "metadata": {
        "colab": {
          "base_uri": "https://localhost:8080/"
        },
        "id": "mgawUcRcftOu",
        "outputId": "d95cb150-0cf7-4f1b-9341-05200a98dd97"
      },
      "outputs": [
        {
          "name": "stdout",
          "output_type": "stream",
          "text": [
            "+---+---+---+--------+----+---+-------+-------+-----+-------+-----+---+----+------+\n",
            "|age|sex| cp|trestbps|chol|fbs|restecg|thalach|exang|oldpeak|slope| ca|thal|target|\n",
            "+---+---+---+--------+----+---+-------+-------+-----+-------+-----+---+----+------+\n",
            "| 52|  1|  0|     125| 212|  0|      1|    168|    0|    1.0|    2|  2|   3|     0|\n",
            "| 53|  1|  0|     140| 203|  1|      0|    155|    1|    3.1|    0|  0|   3|     0|\n",
            "| 70|  1|  0|     145| 174|  0|      1|    125|    1|    2.6|    0|  0|   3|     0|\n",
            "| 61|  1|  0|     148| 203|  0|      1|    161|    0|    0.0|    2|  1|   3|     0|\n",
            "| 62|  0|  0|     138| 294|  1|      1|    106|    0|    1.9|    1|  3|   2|     0|\n",
            "| 58|  0|  0|     100| 248|  0|      0|    122|    0|    1.0|    1|  0|   2|     1|\n",
            "| 58|  1|  0|     114| 318|  0|      2|    140|    0|    4.4|    0|  3|   1|     0|\n",
            "| 55|  1|  0|     160| 289|  0|      0|    145|    1|    0.8|    1|  1|   3|     0|\n",
            "| 46|  1|  0|     120| 249|  0|      0|    144|    0|    0.8|    2|  0|   3|     0|\n",
            "| 54|  1|  0|     122| 286|  0|      0|    116|    1|    3.2|    1|  2|   2|     0|\n",
            "| 71|  0|  0|     112| 149|  0|      1|    125|    0|    1.6|    1|  0|   2|     1|\n",
            "| 43|  0|  0|     132| 341|  1|      0|    136|    1|    3.0|    1|  0|   3|     0|\n",
            "| 34|  0|  1|     118| 210|  0|      1|    192|    0|    0.7|    2|  0|   2|     1|\n",
            "| 51|  1|  0|     140| 298|  0|      1|    122|    1|    4.2|    1|  3|   3|     0|\n",
            "| 52|  1|  0|     128| 204|  1|      1|    156|    1|    1.0|    1|  0|   0|     0|\n",
            "| 34|  0|  1|     118| 210|  0|      1|    192|    0|    0.7|    2|  0|   2|     1|\n",
            "| 51|  0|  2|     140| 308|  0|      0|    142|    0|    1.5|    2|  1|   2|     1|\n",
            "| 54|  1|  0|     124| 266|  0|      0|    109|    1|    2.2|    1|  1|   3|     0|\n",
            "| 50|  0|  1|     120| 244|  0|      1|    162|    0|    1.1|    2|  0|   2|     1|\n",
            "| 58|  1|  2|     140| 211|  1|      0|    165|    0|    0.0|    2|  0|   2|     1|\n",
            "+---+---+---+--------+----+---+-------+-------+-----+-------+-----+---+----+------+\n",
            "only showing top 20 rows\n",
            "\n"
          ]
        }
      ],
      "source": [
        "df = spark.read.csv(\"heart731.csv\", header=True, inferSchema=True)\n",
        "df.show()\n"
      ]
    },
    {
      "cell_type": "markdown",
      "source": [
        "\n",
        "\n",
        "---\n",
        "\n",
        "\n",
        "# **Data Preprocessing**\n",
        "\n",
        "\n",
        "---\n",
        "\n"
      ],
      "metadata": {
        "id": "9HOjOEZnvi92"
      }
    },
    {
      "cell_type": "code",
      "execution_count": null,
      "metadata": {
        "colab": {
          "base_uri": "https://localhost:8080/"
        },
        "id": "50zjdHYEgBfs",
        "outputId": "ef063d91-134b-48f7-a06d-b9f1a53f5182"
      },
      "outputs": [
        {
          "name": "stdout",
          "output_type": "stream",
          "text": [
            "root\n",
            " |-- age: integer (nullable = true)\n",
            " |-- sex: integer (nullable = true)\n",
            " |-- cp: integer (nullable = true)\n",
            " |-- trestbps: integer (nullable = true)\n",
            " |-- chol: integer (nullable = true)\n",
            " |-- fbs: integer (nullable = true)\n",
            " |-- restecg: integer (nullable = true)\n",
            " |-- thalach: integer (nullable = true)\n",
            " |-- exang: integer (nullable = true)\n",
            " |-- oldpeak: double (nullable = true)\n",
            " |-- slope: integer (nullable = true)\n",
            " |-- ca: integer (nullable = true)\n",
            " |-- thal: integer (nullable = true)\n",
            " |-- target: integer (nullable = true)\n",
            "\n",
            "+---+---+---+--------+----+---+-------+-------+-----+-------+-----+---+----+------+\n",
            "|age|sex| cp|trestbps|chol|fbs|restecg|thalach|exang|oldpeak|slope| ca|thal|target|\n",
            "+---+---+---+--------+----+---+-------+-------+-----+-------+-----+---+----+------+\n",
            "|  0|  0|  0|       0|   0|  0|      0|      0|    0|      0|    0|  0|   0|     0|\n",
            "+---+---+---+--------+----+---+-------+-------+-----+-------+-----+---+----+------+\n",
            "\n",
            "+-------+-----------------+------------------+------------------+------------------+-----------------+-------------------+------------------+------------------+-------------------+------------------+------------------+------------------+------------------+------------------+\n",
            "|summary|              age|               sex|                cp|          trestbps|             chol|                fbs|           restecg|           thalach|              exang|           oldpeak|             slope|                ca|              thal|            target|\n",
            "+-------+-----------------+------------------+------------------+------------------+-----------------+-------------------+------------------+------------------+-------------------+------------------+------------------+------------------+------------------+------------------+\n",
            "|  count|             1025|              1025|              1025|              1025|             1025|               1025|              1025|              1025|               1025|              1025|              1025|              1025|              1025|              1025|\n",
            "|   mean|54.43414634146342|0.6956097560975609|0.9424390243902439|131.61170731707318|            246.0|0.14926829268292682|0.5297560975609756|149.11414634146342|0.33658536585365856|1.0715121951219524|1.3853658536585365|0.7541463414634146|  2.32390243902439|0.5131707317073171|\n",
            "| stddev|9.072290233244278|0.4603733241196495| 1.029640743645865|17.516718005376408|51.59251020618203|0.35652668972715756|0.5278775668748918| 23.00572374597721| 0.4727723760037115|1.1750532551501767|0.6177552671745918|1.0307976650242825|0.6206602380510303|0.5000704980788011|\n",
            "|    min|               29|                 0|                 0|                94|              126|                  0|                 0|                71|                  0|               0.0|                 0|                 0|                 0|                 0|\n",
            "|    max|               77|                 1|                 3|               200|              564|                  1|                 2|               202|                  1|               6.2|                 2|                 4|                 3|                 1|\n",
            "+-------+-----------------+------------------+------------------+------------------+-----------------+-------------------+------------------+------------------+-------------------+------------------+------------------+------------------+------------------+------------------+\n",
            "\n"
          ]
        }
      ],
      "source": [
        "# Display schema of the DataFrame\n",
        "df.printSchema()\n",
        "\n",
        "# Check for null values in the dataset\n",
        "from pyspark.sql.functions import col, isnan, when, count\n",
        "\n",
        "df.select([count(when(col(c).isNull(), c)).alias(c) for c in df.columns]).show()\n",
        "\n",
        "# Show some basic statistics\n",
        "df.describe().show()\n"
      ]
    },
    {
      "cell_type": "code",
      "execution_count": null,
      "metadata": {
        "id": "Bx3EGHJDgFcF"
      },
      "outputs": [],
      "source": [
        "# Replace null values with median or mean for numeric columns\n",
        "from pyspark.sql.functions import mean\n",
        "\n",
        "for column in df.columns:\n",
        "    if column != 'target':\n",
        "        mean_value = df.select(mean(col(column))).collect()[0][0]\n",
        "        df = df.fillna({column: mean_value})\n"
      ]
    },
    {
      "cell_type": "code",
      "execution_count": null,
      "metadata": {
        "colab": {
          "base_uri": "https://localhost:8080/"
        },
        "id": "rJfa70wpgFp4",
        "outputId": "94e1aded-0bbb-4d77-cca5-49b94189e9fc"
      },
      "outputs": [
        {
          "name": "stdout",
          "output_type": "stream",
          "text": [
            "+---+---+--------+----+---+-------+-------+-----+-------+-----+---+----+------+---------+\n",
            "|age| cp|trestbps|chol|fbs|restecg|thalach|exang|oldpeak|slope| ca|thal|target|sex_index|\n",
            "+---+---+--------+----+---+-------+-------+-----+-------+-----+---+----+------+---------+\n",
            "| 52|  0|     125| 212|  0|      1|    168|    0|    1.0|    2|  2|   3|     0|      0.0|\n",
            "| 53|  0|     140| 203|  1|      0|    155|    1|    3.1|    0|  0|   3|     0|      0.0|\n",
            "| 70|  0|     145| 174|  0|      1|    125|    1|    2.6|    0|  0|   3|     0|      0.0|\n",
            "| 61|  0|     148| 203|  0|      1|    161|    0|    0.0|    2|  1|   3|     0|      0.0|\n",
            "| 62|  0|     138| 294|  1|      1|    106|    0|    1.9|    1|  3|   2|     0|      1.0|\n",
            "| 58|  0|     100| 248|  0|      0|    122|    0|    1.0|    1|  0|   2|     1|      1.0|\n",
            "| 58|  0|     114| 318|  0|      2|    140|    0|    4.4|    0|  3|   1|     0|      0.0|\n",
            "| 55|  0|     160| 289|  0|      0|    145|    1|    0.8|    1|  1|   3|     0|      0.0|\n",
            "| 46|  0|     120| 249|  0|      0|    144|    0|    0.8|    2|  0|   3|     0|      0.0|\n",
            "| 54|  0|     122| 286|  0|      0|    116|    1|    3.2|    1|  2|   2|     0|      0.0|\n",
            "| 71|  0|     112| 149|  0|      1|    125|    0|    1.6|    1|  0|   2|     1|      1.0|\n",
            "| 43|  0|     132| 341|  1|      0|    136|    1|    3.0|    1|  0|   3|     0|      1.0|\n",
            "| 34|  1|     118| 210|  0|      1|    192|    0|    0.7|    2|  0|   2|     1|      1.0|\n",
            "| 51|  0|     140| 298|  0|      1|    122|    1|    4.2|    1|  3|   3|     0|      0.0|\n",
            "| 52|  0|     128| 204|  1|      1|    156|    1|    1.0|    1|  0|   0|     0|      0.0|\n",
            "| 34|  1|     118| 210|  0|      1|    192|    0|    0.7|    2|  0|   2|     1|      1.0|\n",
            "| 51|  2|     140| 308|  0|      0|    142|    0|    1.5|    2|  1|   2|     1|      1.0|\n",
            "| 54|  0|     124| 266|  0|      0|    109|    1|    2.2|    1|  1|   3|     0|      0.0|\n",
            "| 50|  1|     120| 244|  0|      1|    162|    0|    1.1|    2|  0|   2|     1|      1.0|\n",
            "| 58|  2|     140| 211|  1|      0|    165|    0|    0.0|    2|  0|   2|     1|      0.0|\n",
            "+---+---+--------+----+---+-------+-------+-----+-------+-----+---+----+------+---------+\n",
            "only showing top 20 rows\n",
            "\n"
          ]
        }
      ],
      "source": [
        "from pyspark.ml.feature import StringIndexer\n",
        "\n",
        "# Index 'sex' column\n",
        "indexer = StringIndexer(inputCol=\"sex\", outputCol=\"sex_index\")\n",
        "df = indexer.fit(df).transform(df)\n",
        "\n",
        "# Drop the original 'sex' column if you don't need it\n",
        "df = df.drop(\"sex\")\n",
        "df.show()\n"
      ]
    },
    {
      "cell_type": "code",
      "execution_count": null,
      "metadata": {
        "colab": {
          "base_uri": "https://localhost:8080/"
        },
        "id": "-O0izKfogOI9",
        "outputId": "3667d345-eca7-4d62-9ab2-72469834f6f7"
      },
      "outputs": [
        {
          "name": "stdout",
          "output_type": "stream",
          "text": [
            "+---+---+--------+----+---+-------+-------+-----+-------+-----+---+----+------+---------+--------------------+\n",
            "|age| cp|trestbps|chol|fbs|restecg|thalach|exang|oldpeak|slope| ca|thal|target|sex_index|            features|\n",
            "+---+---+--------+----+---+-------+-------+-----+-------+-----+---+----+------+---------+--------------------+\n",
            "| 52|  0|     125| 212|  0|      1|    168|    0|    1.0|    2|  2|   3|     0|      0.0|[52.0,0.0,0.0,125...|\n",
            "| 53|  0|     140| 203|  1|      0|    155|    1|    3.1|    0|  0|   3|     0|      0.0|[53.0,0.0,0.0,140...|\n",
            "| 70|  0|     145| 174|  0|      1|    125|    1|    2.6|    0|  0|   3|     0|      0.0|[70.0,0.0,0.0,145...|\n",
            "| 61|  0|     148| 203|  0|      1|    161|    0|    0.0|    2|  1|   3|     0|      0.0|[61.0,0.0,0.0,148...|\n",
            "| 62|  0|     138| 294|  1|      1|    106|    0|    1.9|    1|  3|   2|     0|      1.0|[62.0,1.0,0.0,138...|\n",
            "| 58|  0|     100| 248|  0|      0|    122|    0|    1.0|    1|  0|   2|     1|      1.0|[58.0,1.0,0.0,100...|\n",
            "| 58|  0|     114| 318|  0|      2|    140|    0|    4.4|    0|  3|   1|     0|      0.0|[58.0,0.0,0.0,114...|\n",
            "| 55|  0|     160| 289|  0|      0|    145|    1|    0.8|    1|  1|   3|     0|      0.0|[55.0,0.0,0.0,160...|\n",
            "| 46|  0|     120| 249|  0|      0|    144|    0|    0.8|    2|  0|   3|     0|      0.0|(13,[0,3,4,7,9,10...|\n",
            "| 54|  0|     122| 286|  0|      0|    116|    1|    3.2|    1|  2|   2|     0|      0.0|[54.0,0.0,0.0,122...|\n",
            "| 71|  0|     112| 149|  0|      1|    125|    0|    1.6|    1|  0|   2|     1|      1.0|[71.0,1.0,0.0,112...|\n",
            "| 43|  0|     132| 341|  1|      0|    136|    1|    3.0|    1|  0|   3|     0|      1.0|[43.0,1.0,0.0,132...|\n",
            "| 34|  1|     118| 210|  0|      1|    192|    0|    0.7|    2|  0|   2|     1|      1.0|[34.0,1.0,1.0,118...|\n",
            "| 51|  0|     140| 298|  0|      1|    122|    1|    4.2|    1|  3|   3|     0|      0.0|[51.0,0.0,0.0,140...|\n",
            "| 52|  0|     128| 204|  1|      1|    156|    1|    1.0|    1|  0|   0|     0|      0.0|[52.0,0.0,0.0,128...|\n",
            "| 34|  1|     118| 210|  0|      1|    192|    0|    0.7|    2|  0|   2|     1|      1.0|[34.0,1.0,1.0,118...|\n",
            "| 51|  2|     140| 308|  0|      0|    142|    0|    1.5|    2|  1|   2|     1|      1.0|[51.0,1.0,2.0,140...|\n",
            "| 54|  0|     124| 266|  0|      0|    109|    1|    2.2|    1|  1|   3|     0|      0.0|[54.0,0.0,0.0,124...|\n",
            "| 50|  1|     120| 244|  0|      1|    162|    0|    1.1|    2|  0|   2|     1|      1.0|[50.0,1.0,1.0,120...|\n",
            "| 58|  2|     140| 211|  1|      0|    165|    0|    0.0|    2|  0|   2|     1|      0.0|[58.0,0.0,2.0,140...|\n",
            "+---+---+--------+----+---+-------+-------+-----+-------+-----+---+----+------+---------+--------------------+\n",
            "only showing top 20 rows\n",
            "\n"
          ]
        }
      ],
      "source": [
        "# List of feature columns (excluding 'target')\n",
        "feature_columns = ['age', 'sex_index', 'cp', 'trestbps', 'chol', 'fbs',\n",
        "                   'restecg', 'thalach', 'exang', 'oldpeak', 'slope', 'ca', 'thal']\n",
        "\n",
        "# Combine features into a single vector using VectorAssembler\n",
        "from pyspark.ml.feature import VectorAssembler\n",
        "\n",
        "assembler = VectorAssembler(inputCols=feature_columns, outputCol=\"features\")\n",
        "df = assembler.transform(df)\n",
        "df.show()\n"
      ]
    },
    {
      "cell_type": "code",
      "execution_count": null,
      "metadata": {
        "colab": {
          "base_uri": "https://localhost:8080/"
        },
        "id": "6Mf-aEVrgTMn",
        "outputId": "af5562e6-56d2-4787-f459-6c3dd07b694f"
      },
      "outputs": [
        {
          "name": "stdout",
          "output_type": "stream",
          "text": [
            "Training Data Count: 856, Testing Data Count: 169\n"
          ]
        }
      ],
      "source": [
        "train_df, test_df = df.randomSplit([0.8, 0.2], seed=42)\n",
        "print(f\"Training Data Count: {train_df.count()}, Testing Data Count: {test_df.count()}\")\n"
      ]
    },
    {
      "cell_type": "markdown",
      "metadata": {
        "id": "nLalWM57gYpJ"
      },
      "source": [
        "\n",
        "\n",
        "---\n",
        "\n",
        "\n",
        "\n",
        "---\n",
        "\n",
        "\n",
        "\n",
        "---\n",
        "\n",
        "\n",
        "# **Apply Machine Learning Algorithms**\n",
        "\n",
        "---\n",
        "\n",
        "\n",
        "\n",
        "---\n",
        "\n",
        "\n",
        "\n",
        "---\n",
        "\n"
      ]
    },
    {
      "cell_type": "markdown",
      "metadata": {
        "id": "il2QUMSChTuu"
      },
      "source": [
        "\n",
        "\n",
        "---\n",
        "\n",
        "\n",
        "# **Algorithm #1: Random Forest Classifier:**\n",
        "\n",
        "---\n",
        "\n"
      ]
    },
    {
      "cell_type": "markdown",
      "source": [
        "# Train the Random Forest Classifier\n"
      ],
      "metadata": {
        "id": "oKPEMycZnkD9"
      }
    },
    {
      "cell_type": "code",
      "execution_count": null,
      "metadata": {
        "colab": {
          "base_uri": "https://localhost:8080/"
        },
        "id": "H8aXljNugVX2",
        "outputId": "353ae0d4-c9b1-4a10-df57-fda722cba6a5"
      },
      "outputs": [
        {
          "name": "stdout",
          "output_type": "stream",
          "text": [
            "Random Forest Accuracy: 0.9822485207100592\n"
          ]
        }
      ],
      "source": [
        "from pyspark.ml.classification import RandomForestClassifier\n",
        "\n",
        "# Initialize Random Forest Classifier\n",
        "rf = RandomForestClassifier(featuresCol=\"features\", labelCol=\"target\", numTrees=200, maxDepth=10, seed=42)\n",
        "\n",
        "# Train the model\n",
        "rf_model = rf.fit(train_df)\n",
        "\n",
        "# Make predictions on the test set\n",
        "rf_predictions = rf_model.transform(test_df)\n"
      ]
    },
    {
      "cell_type": "markdown",
      "source": [
        "# Evaluate the Random Forest Classifier"
      ],
      "metadata": {
        "id": "hfX-bNWXoO30"
      }
    },
    {
      "cell_type": "code",
      "source": [
        "from pyspark.ml.evaluation import MulticlassClassificationEvaluator\n",
        "\n",
        "# Evaluators for accuracy, precision, recall, F1-score\n",
        "rf_evaluator = MulticlassClassificationEvaluator(labelCol=\"target\", predictionCol=\"prediction\")\n",
        "\n",
        "# Accuracy\n",
        "rf_accuracy = rf_evaluator.setMetricName(\"accuracy\").evaluate(rf_predictions)\n",
        "\n",
        "# Precision\n",
        "rf_precision = rf_evaluator.setMetricName(\"weightedPrecision\").evaluate(rf_predictions)\n",
        "\n",
        "# Recall\n",
        "rf_recall = rf_evaluator.setMetricName(\"weightedRecall\").evaluate(rf_predictions)\n",
        "\n",
        "# F1 Score\n",
        "rf_f1 = rf_evaluator.setMetricName(\"f1\").evaluate(rf_predictions)\n",
        "\n",
        "print(f\"Random Forest Accuracy: {rf_accuracy}\")\n",
        "print(f\"Random Forest Precision: {rf_precision}\")\n",
        "print(f\"Random Forest Recall: {rf_recall}\")\n",
        "print(f\"Random Forest F1 Score: {rf_f1}\")\n"
      ],
      "metadata": {
        "colab": {
          "base_uri": "https://localhost:8080/"
        },
        "id": "GHSUThASoEpT",
        "outputId": "6349ec22-a4a8-4cd7-c7ef-d2899cc63a35"
      },
      "execution_count": 73,
      "outputs": [
        {
          "output_type": "stream",
          "name": "stdout",
          "text": [
            "Random Forest Accuracy: 0.9822485207100592\n",
            "Random Forest Precision: 0.9828273732956007\n",
            "Random Forest Recall: 0.9822485207100592\n",
            "Random Forest F1 Score: 0.9822260322962773\n"
          ]
        }
      ]
    },
    {
      "cell_type": "markdown",
      "source": [
        "# Visualize the Confusion Matrix"
      ],
      "metadata": {
        "id": "79kRUaL_oZ8y"
      }
    },
    {
      "cell_type": "code",
      "source": [
        "import matplotlib.pyplot as plt\n",
        "import seaborn as sns\n",
        "from sklearn.metrics import confusion_matrix\n",
        "\n",
        "# Convert predictions to Pandas DataFrame for easier manipulation\n",
        "rf_predictions_pd = rf_predictions.select(\"prediction\", \"target\").toPandas()\n",
        "\n",
        "# Calculate confusion matrix\n",
        "conf_matrix = confusion_matrix(rf_predictions_pd['target'], rf_predictions_pd['prediction'])\n",
        "\n",
        "# Plot the confusion matrix\n",
        "plt.figure(figsize=(6, 5))\n",
        "sns.heatmap(conf_matrix, annot=True, fmt='d', cmap='Blues', xticklabels=[\"0\", \"1\"], yticklabels=[\"0\", \"1\"])\n",
        "plt.title(\"Confusion Matrix for Random Forest Classifier\")\n",
        "plt.xlabel(\"Predicted\")\n",
        "plt.ylabel(\"Actual\")\n",
        "plt.show()\n"
      ],
      "metadata": {
        "colab": {
          "base_uri": "https://localhost:8080/",
          "height": 487
        },
        "id": "UvAsyis5oLql",
        "outputId": "dfd57559-f21d-4ec0-9902-91bbb33e4702"
      },
      "execution_count": 74,
      "outputs": [
        {
          "output_type": "display_data",
          "data": {
            "text/plain": [
              "<Figure size 600x500 with 2 Axes>"
            ],
            "image/png": "[encoded data removed]"
          },
          "metadata": {}
        }
      ]
    },
    {
      "cell_type": "markdown",
      "source": [
        "# Plot the ROC Curve"
      ],
      "metadata": {
        "id": "YbIHBNMlodXX"
      }
    },
    {
      "cell_type": "markdown",
      "source": [
        "Applying Necessary modules for plotting ROC for random forest classifier"
      ],
      "metadata": {
        "id": "HIVP7wnlpI_Z"
      }
    },
    {
      "cell_type": "code",
      "source": [
        "from pyspark.ml.evaluation import BinaryClassificationEvaluator\n",
        "from pyspark.mllib.evaluation import BinaryClassificationMetrics\n",
        "import matplotlib.pyplot as plt\n"
      ],
      "metadata": {
        "id": "Mmouwh8ToXiF"
      },
      "execution_count": 76,
      "outputs": []
    },
    {
      "cell_type": "markdown",
      "source": [
        "Extracting the probability of the positive class (assuming class '1' is the positive class) and convert it to an RDD:"
      ],
      "metadata": {
        "id": "aAlQq86VpyFK"
      }
    },
    {
      "cell_type": "code",
      "source": [
        "# Extract the probability of the positive class (class '1')\n",
        "positive_class_probabilities = rf_predictions.select('probability').rdd.map(lambda row: row[0][1])\n"
      ],
      "metadata": {
        "id": "8WM3f8MHpuXm"
      },
      "execution_count": 77,
      "outputs": []
    },
    {
      "cell_type": "code",
      "source": [
        "from pyspark.ml.evaluation import BinaryClassificationEvaluator\n",
        "import matplotlib.pyplot as plt\n"
      ],
      "metadata": {
        "id": "vHeYs71HqFoc"
      },
      "execution_count": 79,
      "outputs": []
    },
    {
      "cell_type": "code",
      "source": [
        "# Get the model's summary\n",
        "rf_summary = rf_model.summary\n"
      ],
      "metadata": {
        "id": "Mv5M2kSVqLMX"
      },
      "execution_count": 80,
      "outputs": []
    },
    {
      "cell_type": "code",
      "source": [
        "# Get ROC data\n",
        "roc_data = rf_summary.roc.toPandas()\n"
      ],
      "metadata": {
        "id": "qpmrYoZ5qPC8"
      },
      "execution_count": 81,
      "outputs": []
    },
    {
      "cell_type": "code",
      "source": [
        "# Plot ROC Curve\n",
        "plt.figure(figsize=(8, 6))\n",
        "plt.plot(roc_data['FPR'], roc_data['TPR'], color='blue', lw=2, label=f'ROC curve (area = {rf_summary.areaUnderROC:.2f})')\n",
        "plt.plot([0, 1], [0, 1], color='gray', linestyle='--')\n",
        "plt.xlabel('False Positive Rate')\n",
        "plt.ylabel('True Positive Rate')\n",
        "plt.title('Receiver Operating Characteristic (ROC) Curve for Random Forest Classifier')\n",
        "plt.legend(loc='lower right')\n",
        "plt.show()\n"
      ],
      "metadata": {
        "colab": {
          "base_uri": "https://localhost:8080/",
          "height": 564
        },
        "id": "0-PHAHAkp2ti",
        "outputId": "1a41a196-4d2f-4c7d-c0bf-8d5351e50fe3"
      },
      "execution_count": 82,
      "outputs": [
        {
          "output_type": "display_data",
          "data": {
            "text/plain": [
              "<Figure size 800x600 with 1 Axes>"
            ],
            "image/png": "[encoded data removed]"
          },
          "metadata": {}
        }
      ]
    },
    {
      "cell_type": "code",
      "source": [
        "# Initialize evaluator\n",
        "evaluator = BinaryClassificationEvaluator(labelCol='target', rawPredictionCol='rawPrediction')\n",
        "\n",
        "# Compute AUC\n",
        "auc_value = evaluator.evaluate(rf_predictions)\n",
        "print(f\"AUC: {auc_value}\")\n"
      ],
      "metadata": {
        "colab": {
          "base_uri": "https://localhost:8080/"
        },
        "id": "DZOCqknQqYdT",
        "outputId": "85d689a1-1323-462a-8208-abb31cc57ab1"
      },
      "execution_count": 83,
      "outputs": [
        {
          "output_type": "stream",
          "name": "stdout",
          "text": [
            "AUC: 1.0\n"
          ]
        }
      ]
    },
    {
      "cell_type": "markdown",
      "metadata": {
        "id": "cbIblDwmh5Tp"
      },
      "source": [
        "\n",
        "\n",
        "---\n",
        "\n",
        "\n",
        "# **Algorithm # 2: Logistic Regression**\n",
        "\n",
        "---\n",
        "\n"
      ]
    },
    {
      "cell_type": "code",
      "execution_count": 67,
      "metadata": {
        "id": "iotJZ6i_h0yf"
      },
      "outputs": [],
      "source": [
        "from pyspark.ml.classification import LogisticRegression\n",
        "from pyspark.ml.evaluation import MulticlassClassificationEvaluator\n",
        "import matplotlib.pyplot as plt\n",
        "import seaborn as sns\n",
        "from pyspark.mllib.evaluation import MulticlassMetrics\n",
        "\n",
        "# Train Logistic Regression Model\n",
        "lr = LogisticRegression(featuresCol=\"features\", labelCol=\"target\")\n",
        "lr_model = lr.fit(train_df)\n",
        "lr_predictions = lr_model.transform(test_df)\n"
      ]
    },
    {
      "cell_type": "markdown",
      "source": [
        "# Evaluate Logistic Regression Model"
      ],
      "metadata": {
        "id": "_Lcz1ahkmf0m"
      }
    },
    {
      "cell_type": "code",
      "source": [
        "# Evaluators for accuracy, precision, recall, F1-score\n",
        "lr_evaluator = MulticlassClassificationEvaluator(labelCol=\"target\", predictionCol=\"prediction\")\n",
        "\n",
        "# Accuracy\n",
        "lr_accuracy = lr_evaluator.setMetricName(\"accuracy\").evaluate(lr_predictions)\n",
        "\n",
        "# Precision\n",
        "lr_precision = lr_evaluator.setMetricName(\"weightedPrecision\").evaluate(lr_predictions)\n",
        "\n",
        "# Recall\n",
        "lr_recall = lr_evaluator.setMetricName(\"weightedRecall\").evaluate(lr_predictions)\n",
        "\n",
        "# F1 Score\n",
        "lr_f1 = lr_evaluator.setMetricName(\"f1\").evaluate(lr_predictions)\n",
        "\n",
        "print(f\"Logistic Regression Accuracy: {lr_accuracy}\")\n",
        "print(f\"Logistic Regression Precision: {lr_precision}\")\n",
        "print(f\"Logistic Regression Recall: {lr_recall}\")\n",
        "print(f\"Logistic Regression F1 Score: {lr_f1}\")\n"
      ],
      "metadata": {
        "colab": {
          "base_uri": "https://localhost:8080/"
        },
        "id": "pE6hK7X_lAI3",
        "outputId": "6ac1eb58-b2d0-4867-829b-51e7369d7ea0"
      },
      "execution_count": 68,
      "outputs": [
        {
          "output_type": "stream",
          "name": "stdout",
          "text": [
            "Logistic Regression Accuracy: 0.8402366863905325\n",
            "Logistic Regression Precision: 0.8560657665534748\n",
            "Logistic Regression Recall: 0.8402366863905326\n",
            "Logistic Regression F1 Score: 0.8394742268105455\n"
          ]
        }
      ]
    },
    {
      "cell_type": "markdown",
      "source": [
        "# Visualize Confusion Matrix"
      ],
      "metadata": {
        "id": "_3TECIoWmXpS"
      }
    },
    {
      "cell_type": "code",
      "source": [
        "# Convert predictions to Pandas DataFrame for easier manipulation\n",
        "lr_predictions_pd = lr_predictions.select(\"prediction\", \"target\").toPandas()\n",
        "\n",
        "# Calculate confusion matrix\n",
        "conf_matrix = confusion_matrix(lr_predictions_pd['target'], lr_predictions_pd['prediction'])\n",
        "\n",
        "# Plot the confusion matrix\n",
        "plt.figure(figsize=(6, 5))\n",
        "sns.heatmap(conf_matrix, annot=True, fmt='d', cmap='Blues', xticklabels=[\"0\", \"1\"], yticklabels=[\"0\", \"1\"])\n",
        "plt.title(\"Confusion Matrix for Logistic Regression\")\n",
        "plt.xlabel(\"Predicted\")\n",
        "plt.ylabel(\"Actual\")\n",
        "plt.show()\n"
      ],
      "metadata": {
        "colab": {
          "base_uri": "https://localhost:8080/",
          "height": 487
        },
        "id": "bBcgPlOVlHX8",
        "outputId": "ae18a413-416e-4dbf-de64-c62b4816e0f8"
      },
      "execution_count": 69,
      "outputs": [
        {
          "output_type": "display_data",
          "data": {
            "text/plain": [
              "<Figure size 600x500 with 2 Axes>"
            ],
            "image/png": "[encoded data removed]"
          },
          "metadata": {}
        }
      ]
    },
    {
      "cell_type": "markdown",
      "source": [
        "# Visualize ROC Curve"
      ],
      "metadata": {
        "id": "AjKePOATl_3F"
      }
    },
    {
      "cell_type": "code",
      "source": [
        "# Convert predictions to Pandas DataFrame\n",
        "predictions_pd = lr_predictions.select(\"prediction\", \"target\", \"probability\").toPandas()\n",
        "\n",
        "# Get the probability of the positive class (index 1)\n",
        "predictions_pd['positive_class_prob'] = predictions_pd['probability'].apply(lambda x: x[1])\n",
        "\n",
        "# Compute ROC Curve using sklearn\n",
        "from sklearn.metrics import roc_curve, auc\n",
        "\n",
        "# Compute false positive rate and true positive rate\n",
        "fpr, tpr, thresholds = roc_curve(predictions_pd['target'], predictions_pd['positive_class_prob'])\n",
        "\n",
        "# Compute AUC (Area Under the Curve)\n",
        "roc_auc = auc(fpr, tpr)\n",
        "\n",
        "# Plot ROC Curve\n",
        "import matplotlib.pyplot as plt\n",
        "\n",
        "plt.figure(figsize=(8, 6))\n",
        "plt.plot(fpr, tpr, color='blue', lw=2, label=f'ROC curve (area = {roc_auc:.2f})')\n",
        "plt.plot([0, 1], [0, 1], color='gray', linestyle='--')\n",
        "plt.xlabel('False Positive Rate')\n",
        "plt.ylabel('True Positive Rate')\n",
        "plt.title('Receiver Operating Characteristic (ROC) Curve for Logistic Regression')\n",
        "plt.legend(loc='lower right')\n",
        "plt.show()\n"
      ],
      "metadata": {
        "colab": {
          "base_uri": "https://localhost:8080/",
          "height": 564
        },
        "id": "Fki7QcGAlorM",
        "outputId": "2fea40ff-e2bb-4e2b-dd3d-cf7fc747198f"
      },
      "execution_count": 71,
      "outputs": [
        {
          "output_type": "display_data",
          "data": {
            "text/plain": [
              "<Figure size 800x600 with 1 Axes>"
            ],
            "image/png": "[encoded data removed]"
          },
          "metadata": {}
        }
      ]
    },
    {
      "cell_type": "markdown",
      "source": [
        "# Model Comparison Plot"
      ],
      "metadata": {
        "id": "phCEtrxKm9Ok"
      }
    },
    {
      "cell_type": "code",
      "source": [
        "# Comparison of Metrics\n",
        "metrics = ['Accuracy', 'Precision', 'Recall', 'F1 Score']\n",
        "values = [lr_accuracy, lr_precision, lr_recall, lr_f1]\n",
        "\n",
        "plt.figure(figsize=(8, 6))\n",
        "plt.bar(metrics, values, color='green')\n",
        "plt.title(\"Logistic Regression Performance Metrics\")\n",
        "plt.ylabel(\"Score\")\n",
        "plt.ylim(0, 1)\n",
        "plt.show()\n"
      ],
      "metadata": {
        "colab": {
          "base_uri": "https://localhost:8080/",
          "height": 545
        },
        "id": "uXZJ0rLpm4Aw",
        "outputId": "304aa0b5-9d98-41d2-a7ca-38a1e9c7b135"
      },
      "execution_count": 72,
      "outputs": [
        {
          "output_type": "display_data",
          "data": {
            "text/plain": [
              "<Figure size 800x600 with 1 Axes>"
            ],
            "image/png": "[encoded data removed]"
          },
          "metadata": {}
        }
      ]
    },
    {
      "cell_type": "markdown",
      "metadata": {
        "id": "Trk8yCNhiIOl"
      },
      "source": [
        "\n",
        "\n",
        "---\n",
        "\n",
        "\n",
        "# **Algorithm #3: K-Nearest Neighbors**\n",
        "\n",
        "\n",
        "---\n",
        "\n"
      ]
    },
    {
      "cell_type": "markdown",
      "source": [
        "# **Through KMeans Clustering**"
      ],
      "metadata": {
        "id": "9R1OehRFtSwK"
      }
    },
    {
      "cell_type": "code",
      "execution_count": null,
      "metadata": {
        "colab": {
          "base_uri": "https://localhost:8080/"
        },
        "id": "nm53lwIQiOep",
        "outputId": "4f5f949f-239c-4d0c-822f-dfd7f9721047"
      },
      "outputs": [
        {
          "name": "stdout",
          "output_type": "stream",
          "text": [
            "Silhouette Score for KMeans: 0.5984241870612792\n"
          ]
        }
      ],
      "source": [
        "from pyspark.ml.clustering import KMeans\n",
        "\n",
        "kmeans = KMeans(featuresCol=\"features\", k=2)  # Assuming binary classification\n",
        "kmeans_model = kmeans.fit(train_df)\n",
        "kmeans_predictions = kmeans_model.transform(test_df)\n",
        "\n",
        "# Evaluate Clustering using Silhouette Score\n",
        "from pyspark.ml.evaluation import ClusteringEvaluator\n",
        "\n",
        "evaluator = ClusteringEvaluator(featuresCol=\"features\")\n",
        "silhouette = evaluator.evaluate(kmeans_predictions)\n",
        "print(f\"Silhouette Score for KMeans: {silhouette}\")\n"
      ]
    },
    {
      "cell_type": "markdown",
      "source": [
        "# **Through Elbow Method**"
      ],
      "metadata": {
        "id": "q3LYr_HilVkc"
      }
    },
    {
      "cell_type": "code",
      "source": [
        "# Initialize evaluator\n",
        "evaluator = ClusteringEvaluator()\n",
        "\n",
        "# List to store WCSS values\n",
        "wcss = []\n",
        "\n",
        "# Range of k values to test\n",
        "k_values = range(2, 11)\n",
        "\n",
        "for k in k_values:\n",
        "    # Initialize KMeans with k clusters\n",
        "    kmeans = KMeans(k=k, featuresCol=\"features\", predictionCol=\"prediction\")\n",
        "\n",
        "    # Fit the model\n",
        "    model = kmeans.fit(df)\n",
        "\n",
        "    # Make predictions\n",
        "    predictions = model.transform(df)\n",
        "\n",
        "    # Evaluate clustering by computing Silhouette score\n",
        "    silhouette = evaluator.evaluate(predictions)\n",
        "\n",
        "    # Append the Silhouette score to the list\n",
        "    wcss.append(silhouette)\n",
        "\n",
        "# Plotting the Elbow Method\n",
        "plt.figure(figsize=(8, 6))\n",
        "plt.plot(k_values, wcss, marker='o', linestyle='--')\n",
        "plt.title('Elbow Method for Optimal k')\n",
        "plt.xlabel('Number of Clusters (k)')\n",
        "plt.ylabel('Silhouette Score')\n",
        "plt.show()\n"
      ],
      "metadata": {
        "colab": {
          "base_uri": "https://localhost:8080/",
          "height": 564
        },
        "id": "w2_Sq6nxr0oj",
        "outputId": "f7ffb9ee-f626-4918-c1fc-858d2c982b50"
      },
      "execution_count": 88,
      "outputs": [
        {
          "output_type": "display_data",
          "data": {
            "text/plain": [
              "<Figure size 800x600 with 1 Axes>"
            ],
            "image/png": "[encoded data removed]"
          },
          "metadata": {}
        }
      ]
    },
    {
      "cell_type": "code",
      "source": [
        "# Set the optimal number of clusters\n",
        "optimal_k = 3  # Replace with the value identified from the Elbow Method\n",
        "\n",
        "# Initialize KMeans with optimal k\n",
        "kmeans = KMeans(k=optimal_k, featuresCol=\"features\", predictionCol=\"prediction\")\n",
        "\n",
        "# Fit the model\n",
        "kmeans_model = kmeans.fit(df)\n",
        "\n",
        "# Make predictions\n",
        "kmeans_predictions = kmeans_model.transform(df)\n"
      ],
      "metadata": {
        "id": "cz5WwN44r-0F"
      },
      "execution_count": 89,
      "outputs": []
    },
    {
      "cell_type": "code",
      "source": [
        "# Evaluate clustering by computing Silhouette score\n",
        "silhouette = evaluator.evaluate(kmeans_predictions)\n",
        "print(f\"Silhouette Score for KMeans: {silhouette}\")\n"
      ],
      "metadata": {
        "colab": {
          "base_uri": "https://localhost:8080/"
        },
        "id": "S8dyyNJSsHcB",
        "outputId": "55448e60-b5ed-47ed-f9b0-465153b03008"
      },
      "execution_count": 90,
      "outputs": [
        {
          "output_type": "stream",
          "name": "stdout",
          "text": [
            "Silhouette Score for KMeans: 0.44519511415413615\n"
          ]
        }
      ]
    },
    {
      "cell_type": "code",
      "source": [
        "# Convert predictions to Pandas DataFrame\n",
        "kmeans_predictions_pd = kmeans_predictions.select('prediction', 'features').toPandas()\n",
        "\n",
        "# Extract features for plotting (assuming 2D features)\n",
        "kmeans_predictions_pd['x'] = kmeans_predictions_pd['features'].apply(lambda x: x[0])\n",
        "kmeans_predictions_pd['y'] = kmeans_predictions_pd['features'].apply(lambda x: x[1])\n",
        "\n",
        "# Plotting\n",
        "plt.figure(figsize=(8, 6))\n",
        "plt.scatter(kmeans_predictions_pd['x'], kmeans_predictions_pd['y'], c=kmeans_predictions_pd['prediction'], cmap='viridis')\n",
        "plt.title('K-Means Clustering Results')\n",
        "plt.xlabel('Feature 1')\n",
        "plt.ylabel('Feature 2')\n",
        "plt.colorbar(label='Cluster')\n",
        "plt.show()\n"
      ],
      "metadata": {
        "colab": {
          "base_uri": "https://localhost:8080/",
          "height": 564
        },
        "id": "aezwDqntsWWr",
        "outputId": "fb9ff36b-a143-43fd-c76e-f25777edbbde"
      },
      "execution_count": 91,
      "outputs": [
        {
          "output_type": "display_data",
          "data": {
            "text/plain": [
              "<Figure size 800x600 with 2 Axes>"
            ],
            "image/png": "[encoded data removed]"
          },
          "metadata": {}
        }
      ]
    },
    {
      "cell_type": "markdown",
      "source": [
        "\n",
        "\n",
        "---\n",
        "\n",
        "\n",
        "\n",
        "---\n",
        "\n",
        "\n",
        "\n",
        "---\n",
        "\n",
        "\n",
        "\n",
        "---\n",
        "\n"
      ],
      "metadata": {
        "id": "EdNrYFpuyWNk"
      }
    }
  ],
  "metadata": {
    "colab": {
      "provenance": []
    },
    "kernelspec": {
      "display_name": "Python 3",
      "name": "python3"
    },
    "language_info": {
      "name": "python"
    }
  },
  "nbformat": 4,
  "nbformat_minor": 0
}